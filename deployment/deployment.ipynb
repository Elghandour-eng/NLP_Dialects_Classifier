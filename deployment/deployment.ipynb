{
  "cells": [
    {
      "cell_type": "code",
      "execution_count": 1,
      "metadata": {},
      "outputs": [],
      "source": [
        "x=5"
      ]
    },
    {
      "cell_type": "code",
      "execution_count": 2,
      "metadata": {},
      "outputs": [],
      "source": [
        "import tensorflow as tf\n"
      ]
    },
    {
      "cell_type": "code",
      "execution_count": 3,
      "metadata": {},
      "outputs": [],
      "source": [
        "#! pip install langdetect"
      ]
    },
    {
      "cell_type": "code",
      "execution_count": 4,
      "metadata": {},
      "outputs": [
        {
          "name": "stderr",
          "output_type": "stream",
          "text": [
            "[nltk_data] Downloading package stopwords to\n",
            "[nltk_data]     C:\\Users\\Elaf\\AppData\\Roaming\\nltk_data...\n",
            "[nltk_data]   Package stopwords is already up-to-date!\n"
          ]
        }
      ],
      "source": [
        "from preprossecing_script import all_cleaning"
      ]
    },
    {
      "cell_type": "code",
      "execution_count": 23,
      "metadata": {
        "colab": {
          "base_uri": "https://localhost:8080/"
        },
        "id": "TVAHKpaZO14h",
        "outputId": "2fd1adaf-7a26-4e58-f8a0-2eae3bfee71d"
      },
      "outputs": [
        {
          "name": "stdout",
          "output_type": "stream",
          "text": [
            "الناس دي بتنفخ قربة مقدودة بالدارجي كده البلد \n"
          ]
        }
      ],
      "source": [
        "#tt=[\"الناس دي بتنفخ قربة مقدودة بالدارجي كده البلد \"]\n",
        "tt=\"الناس دي بتنفخ قربة مقدودة بالدارجي كده البلد \"\n",
        "tt=all_cleaning(tt)\n",
        "print(tt)"
      ]
    },
    {
      "cell_type": "code",
      "execution_count": 24,
      "metadata": {
        "id": "UAOX2X_FN1sS"
      },
      "outputs": [
        {
          "data": {
            "text/plain": [
              "['الناس دي بتنفخ قربة مقدودة بالدارجي كده البلد ']"
            ]
          },
          "execution_count": 24,
          "metadata": {},
          "output_type": "execute_result"
        }
      ],
      "source": [
        "tt=[tt]\n",
        "tt"
      ]
    },
    {
      "cell_type": "code",
      "execution_count": 20,
      "metadata": {},
      "outputs": [],
      "source": [
        "import pickle\n",
        "\n",
        "# Load the model from file\n",
        "with open('../models/tokenizer.pkl', 'rb') as f:\n",
        "    tokenizer = pickle.load(f)"
      ]
    },
    {
      "cell_type": "code",
      "execution_count": 27,
      "metadata": {},
      "outputs": [],
      "source": [
        "#text = X_train.values.tolist()\n",
        "#tt=[\"الناس دي بتنفخ قربة مقدودة بالدارجي كده البلد \"]\n",
        "##tokenizer.fit_on_texts(text)\n",
        "tt = tokenizer.texts_to_sequences(tt)\n"
      ]
    },
    {
      "cell_type": "code",
      "execution_count": 28,
      "metadata": {},
      "outputs": [],
      "source": [
        "x = pad_sequences(tt, maxlen=100)"
      ]
    },
    {
      "cell_type": "code",
      "execution_count": 29,
      "metadata": {},
      "outputs": [
        {
          "data": {
            "text/plain": [
              "array([[     0,      0,      0,      0,      0,      0,      0,      0,\n",
              "             0,      0,      0,      0,      0,      0,      0,      0,\n",
              "             0,      0,      0,      0,      0,      0,      0,      0,\n",
              "             0,      0,      0,      0,      0,      0,      0,      0,\n",
              "             0,      0,      0,      0,      0,      0,      0,      0,\n",
              "             0,      0,      0,      0,      0,      0,      0,      0,\n",
              "             0,      0,      0,      0,      0,      0,      0,      0,\n",
              "             0,      0,      0,      0,      0,      0,      0,      0,\n",
              "             0,      0,      0,      0,      0,      0,      0,      0,\n",
              "             0,      0,      0,      0,      0,      0,      0,      0,\n",
              "             0,      0,      0,      0,      0,      0,      0,      0,\n",
              "             0,      0,      0,      0,     13,      9,  60389,  46354,\n",
              "         47546, 180546,     25,     89]])"
            ]
          },
          "execution_count": 29,
          "metadata": {},
          "output_type": "execute_result"
        }
      ],
      "source": [
        "x"
      ]
    },
    {
      "cell_type": "code",
      "execution_count": 9,
      "metadata": {
        "id": "XeDQBuodoNY9"
      },
      "outputs": [],
      "source": [
        "from tensorflow.keras.models import load_model\n",
        "\n",
        "# Load the saved model\n",
        "loaded_model = load_model(r'../models/my_model.h5')"
      ]
    },
    {
      "cell_type": "code",
      "execution_count": 30,
      "metadata": {
        "colab": {
          "base_uri": "https://localhost:8080/"
        },
        "id": "gJIexvZZNdZn",
        "outputId": "11444c4a-bf60-4417-c06b-abf59c5f9b43"
      },
      "outputs": [
        {
          "name": "stdout",
          "output_type": "stream",
          "text": [
            "1/1 [==============================] - 0s 28ms/step\n"
          ]
        }
      ],
      "source": [
        "import numpy as np\n",
        "\n",
        "# Assuming you have new data in the form of a NumPy array called `new_data`\n",
        "predictions = loaded_model.predict(x)"
      ]
    },
    {
      "cell_type": "code",
      "execution_count": 31,
      "metadata": {
        "colab": {
          "base_uri": "https://localhost:8080/"
        },
        "id": "4sfzsOclOZTU",
        "outputId": "41959736-f77a-42f6-95dc-eac3afe9b777"
      },
      "outputs": [
        {
          "data": {
            "text/plain": [
              "array([[0.3829535 , 0.00483712, 0.00377159, 0.00485529, 0.6035825 ]],\n",
              "      dtype=float32)"
            ]
          },
          "execution_count": 31,
          "metadata": {},
          "output_type": "execute_result"
        }
      ],
      "source": [
        "predictions"
      ]
    },
    {
      "cell_type": "code",
      "execution_count": 32,
      "metadata": {
        "colab": {
          "base_uri": "https://localhost:8080/"
        },
        "id": "joyRrza0OcHT",
        "outputId": "1911625e-8f40-412a-9409-1029d5442f49"
      },
      "outputs": [
        {
          "data": {
            "text/plain": [
              "(1, 5)"
            ]
          },
          "execution_count": 32,
          "metadata": {},
          "output_type": "execute_result"
        }
      ],
      "source": [
        "predictions.shape"
      ]
    },
    {
      "cell_type": "code",
      "execution_count": 33,
      "metadata": {
        "id": "UGp3ctm_OkcC"
      },
      "outputs": [],
      "source": [
        "ss = np.argmax(predictions, axis=1)\n"
      ]
    },
    {
      "cell_type": "code",
      "execution_count": 34,
      "metadata": {},
      "outputs": [
        {
          "data": {
            "text/plain": [
              "array([4], dtype=int64)"
            ]
          },
          "execution_count": 34,
          "metadata": {},
          "output_type": "execute_result"
        }
      ],
      "source": [
        "ss"
      ]
    },
    {
      "cell_type": "code",
      "execution_count": null,
      "metadata": {},
      "outputs": [],
      "source": [
        "from flask import Flask, request\n",
        "\n",
        "app = Flask(__name__)\n",
        "\n",
        "@app.route('/upload', methods=['POST'])\n",
        "def upload_file():\n",
        "    if 'file' not in request.files:\n",
        "        return 'No file part'\n",
        "\n",
        "    file = request.files['file']\n",
        "\n",
        "    if file.filename == '':\n",
        "        return 'No selected file'\n",
        "\n",
        "    # save the file to disk\n",
        "    #file.save('/path/to/save/file')\n",
        "    \n",
        "    pdfReader = PyPDF2.PdfReader(file)\n",
        "    def get_text_frompages(pdfReader):\n",
        "        text = []\n",
        "        page_number = 0\n",
        "        \n",
        "        for page  in pdfReader.pages: \n",
        "            text.append(page.extract_text()) #extract text from page\n",
        "            page_number += 1 #increment page number\n",
        "            print(\"page {} extracted\".format(page_number))\n",
        "        return text\n",
        "    x=get_text_frompages(pdfReader)\n",
        "    print(x)\n",
        "    import pandas as pd\n",
        "    df = pd.DataFrame(columns=['questions','answer one','answer two','answer three','answer four'])\n",
        "    l=0\n",
        "    for i in range (len(x)):\n",
        "     print(\"new start\")\n",
        "    j=0\n",
        "    #l=0\n",
        "    #print(x[i][j],\"6\")\n",
        "    while  x[i][j] in [' ','\\n']:\n",
        "        j=j+1\n",
        "        print(\"lol\")\n",
        "    while  j < len(x[i])-1 :\n",
        "        print(\"staaa\")\n",
        "        print(x[i][j])\n",
        "        if int(x[i][j])  in list(range(0, 1000)):\n",
        "        #print(x[i][j])\n",
        "         con=str(int(x[i][j])+1)\n",
        "        print(con,\"@@@@@\")\n",
        "        l=l+1\n",
        "        while x[i][j] !=con :\n",
        "            #l=0\n",
        "            question=''\n",
        "            a=\"\"\n",
        "            b=\"\"\n",
        "            c=\"\"\n",
        "            d=\"\"\n",
        "            while x[i][j] != \"?\" and j < len(x[i])-1:\n",
        "             question=question+x[i][j]\n",
        "            j=j+1\n",
        "        \n",
        "            print(question)\n",
        "            df.loc[l, 'questions']=re.sub(r'\\n', '',  question[3:]  )        \n",
        "\n",
        "            while x[i][j] != \"A\" and j < len(x[i])-1 :\n",
        "             j=j+1\n",
        "            \n",
        "            while (x[i][j] != \"B\" and j < len(x[i])-1)  or (x[i][j]=='B' and j < len(x[i])-1 and x[i][j+1]!=' ' ):\n",
        "             a=a+x[i][j]\n",
        "             j=j+1\n",
        "        \n",
        "            print(a)\n",
        "            df.loc[l, 'answer one']=re.sub(r'\\n', '',  a[4:])             \n",
        "            while (x[i][j] != \"C\" and j < len(x[i])-1) or (x[i][j]=='C' and j < len(x[i])-1 and x[i][j+1]!=' '):\n",
        "             b=b+x[i][j]\n",
        "             j=j+1\n",
        "            print(b)\n",
        "            df.loc[l, 'answer two']=re.sub(r'\\n', '',  b[4:])                     \n",
        "            while x[i][j] != \"D\" and j < len(x[i])-1 or (x[i][j]=='D' and j < len(x[i])-1 and x[i][j+1]!=' '):\n",
        "             c=c+x[i][j]\n",
        "             j=j+1\n",
        "            print(c)\n",
        "        \n",
        "            #print(j)\n",
        "            #print(len(x[i]))\n",
        "            df.loc[l, 'answer three']=re.sub(r'\\n', '',  c[4:] ) \n",
        "            while x[i][j] != \"\\n\" and j < len(x[i])-1 :\n",
        "                \n",
        "             d=d+x[i][j]\n",
        "             j=j+1\n",
        "            #print(j)\n",
        "            #print(len(x[i]))\n",
        "            \n",
        "            print(d)\n",
        "            df.loc[l, 'answer four']=re.sub(r'\\n', '',d[4:])         \n",
        "            print('###################')\n",
        "            print(l,\"____\")\n",
        "            print(x[i][j],\"^^^^\")\n",
        "            print(con,\"___\")\n",
        "            while x[i][j] != con[0] and j < len(x[i])-1 :\n",
        "                if j < len(x[i]):\n",
        "                    print(\"tell\")\n",
        "                    j=j+1\n",
        "            #print(x[i][j])\n",
        "            #print(\"$\")\n",
        "            print(\"donee\")\n",
        "            break\n",
        "        #j=j+1\n",
        "    \n",
        "\n",
        "    return 'File uploaded successfully'\n",
        "if __name__ == '__main__':\n",
        "    app.run()\n",
        "\n"
      ]
    },
    {
      "cell_type": "code",
      "execution_count": null,
      "metadata": {},
      "outputs": [],
      "source": []
    }
  ],
  "metadata": {
    "colab": {
      "provenance": []
    },
    "kernelspec": {
      "display_name": "Python 3",
      "name": "python3"
    },
    "language_info": {
      "codemirror_mode": {
        "name": "ipython",
        "version": 3
      },
      "file_extension": ".py",
      "mimetype": "text/x-python",
      "name": "python",
      "nbconvert_exporter": "python",
      "pygments_lexer": "ipython3",
      "version": "3.11.0"
    }
  },
  "nbformat": 4,
  "nbformat_minor": 0
}
